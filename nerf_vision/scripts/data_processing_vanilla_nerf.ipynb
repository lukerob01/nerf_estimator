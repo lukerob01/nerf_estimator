{
 "cells": [
  {
   "cell_type": "code",
   "execution_count": 1,
   "metadata": {},
   "outputs": [],
   "source": [
    "import os\n",
    "import json\n",
    "import shutil\n",
    "from scipy.spatial.transform import Rotation\n",
    "import numpy as np"
   ]
  },
  {
   "cell_type": "code",
   "execution_count": 2,
   "metadata": {},
   "outputs": [],
   "source": [
    "SRC_PATH = os.path.join(os.getcwd(), '../processed/5_pts')\n",
    "DES_PATH = os.path.join(os.getcwd(), '../processed_vanilla/5_pts')\n",
    "if not os.path.exists(DES_PATH):\n",
    "    os.makedirs(DES_PATH)\n"
   ]
  },
  {
   "cell_type": "code",
   "execution_count": 3,
   "metadata": {},
   "outputs": [],
   "source": [
    "#Open transforms.json\n",
    "transform = json.load(open(os.path.join(SRC_PATH, 'transforms.json'), 'r'))\n",
    "\n",
    "\n",
    "#Split images into train and val\n",
    "#Delete existing folders\n",
    "if os.path.exists(os.path.join(DES_PATH, 'train')):\n",
    "    shutil.rmtree(os.path.join(DES_PATH, 'train'))\n",
    "if os.path.exists(os.path.join(DES_PATH, 'val')):\n",
    "    shutil.rmtree(os.path.join(DES_PATH, 'val'))\n",
    "if not os.path.exists(os.path.join(DES_PATH, 'train')):\n",
    "    os.makedirs(os.path.join(DES_PATH, 'train'))\n",
    "if not os.path.exists(os.path.join(DES_PATH, 'val')):\n",
    "    os.makedirs(os.path.join(DES_PATH, 'val'))\n",
    "img_cnt = len(transform['frames'])\n",
    "ratio = 0.8\n",
    "train_cnt = int(img_cnt * ratio)\n",
    "test_cnt = img_cnt - train_cnt\n",
    "\n",
    "transform_train = {'frames':[]}\n",
    "transform_val = {'frames':[]}\n",
    "\n",
    "transform_train['camera_angle_x'] = transform['horizontal_fov']\n",
    "transform_val['camera_angle_x'] = transform['horizontal_fov']\n",
    "\n",
    "#Randomise transform['frames']\n",
    "np.random.shuffle(transform['frames'])\n",
    "\n",
    "for i in range(train_cnt):\n",
    "    img_name = transform['frames'][i]['file_path']\n",
    "    shutil.copy(os.path.join(SRC_PATH, img_name), os.path.join(DES_PATH, 'train'))\n",
    "    frame_details = transform['frames'][i]\n",
    "    img_number = img_name[:-4]\n",
    "    img_number = img_number[7:]\n",
    "    frame_details['file_path'] = 'train/' + img_number\n",
    "    transform_train['frames'].append(frame_details)\n",
    "with open(os.path.join(DES_PATH, 'transforms_train.json'), 'w') as f:\n",
    "    json.dump(transform_train, f, indent=4)\n",
    "\n",
    "\n",
    "for i in range(train_cnt,img_cnt):\n",
    "    img_name = transform['frames'][i]['file_path']\n",
    "    shutil.copy(os.path.join(SRC_PATH, img_name), os.path.join(DES_PATH, 'val'))\n",
    "    frame_details = transform['frames'][i]\n",
    "    img_number = img_name[:-4]\n",
    "    img_number = img_number[7:]\n",
    "    frame_details['file_path'] = \"val/\" + img_number\n",
    "    transform_val['frames'].append(frame_details)\n",
    "with open(os.path.join(DES_PATH, 'transforms_val.json'), 'w') as f:\n",
    "    json.dump(transform_val, f, indent=4)"
   ]
  }
 ],
 "metadata": {
  "kernelspec": {
   "display_name": "Python 3",
   "language": "python",
   "name": "python3"
  },
  "language_info": {
   "codemirror_mode": {
    "name": "ipython",
    "version": 3
   },
   "file_extension": ".py",
   "mimetype": "text/x-python",
   "name": "python",
   "nbconvert_exporter": "python",
   "pygments_lexer": "ipython3",
   "version": "3.8.10"
  }
 },
 "nbformat": 4,
 "nbformat_minor": 2
}
