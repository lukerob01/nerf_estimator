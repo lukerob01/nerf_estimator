{
 "cells": [
  {
   "cell_type": "code",
   "execution_count": 17,
   "metadata": {},
   "outputs": [],
   "source": [
    "import os\n",
    "import json\n",
    "import shutil"
   ]
  },
  {
   "cell_type": "code",
   "execution_count": 13,
   "metadata": {},
   "outputs": [],
   "source": [
    "SRC_PATH = os.path.join(os.getcwd(), '../processed/2_pts')\n",
    "DES_PATH = os.path.join(os.getcwd(), '../processed_vanilla/2_pts')\n",
    "if not os.path.exists(DES_PATH):\n",
    "    os.makedirs(DES_PATH)\n"
   ]
  },
  {
   "cell_type": "code",
   "execution_count": 29,
   "metadata": {},
   "outputs": [],
   "source": [
    "#Open transforms.json\n",
    "transform = json.load(open(os.path.join(SRC_PATH, 'transforms.json'), 'r'))\n",
    "\n",
    "#Copy images\n",
    "if not os.path.exists(os.path.join(DES_PATH, 'images')):\n",
    "    os.makedirs(os.path.join(DES_PATH, 'images'))\n",
    "for f in transform['frames']:\n",
    "    shutil.copy(os.path.join(SRC_PATH, f['file_path']), os.path.join(DES_PATH, f['file_path']))\n",
    "\n",
    "#Copy masks\n",
    "if not os.path.exists(os.path.join(DES_PATH, 'masks')):\n",
    "    os.makedirs(os.path.join(DES_PATH, 'masks'))\n",
    "for f in transform['frames']:\n",
    "    shutil.copy(os.path.join(SRC_PATH, f['mask_path']), os.path.join(DES_PATH, f['mask_path']))"
   ]
  },
  {
   "cell_type": "code",
   "execution_count": 14,
   "metadata": {},
   "outputs": [],
   "source": [
    "\n",
    "for f in transform['frames']:\n",
    "    #Strip png from string end\n",
    "    f['file_path'] = f['file_path'][:-4]\n",
    "    break\n",
    "\n",
    "#Save transforms.json\n",
    "#Save as json \n",
    "with open(os.path.join(DES_PATH, \"transforms_train.json\"), 'w') as outfile:\n",
    "    json.dump(transform, outfile,indent=4)"
   ]
  }
 ],
 "metadata": {
  "kernelspec": {
   "display_name": "Python 3",
   "language": "python",
   "name": "python3"
  },
  "language_info": {
   "codemirror_mode": {
    "name": "ipython",
    "version": 3
   },
   "file_extension": ".py",
   "mimetype": "text/x-python",
   "name": "python",
   "nbconvert_exporter": "python",
   "pygments_lexer": "ipython3",
   "version": "3.8.10"
  }
 },
 "nbformat": 4,
 "nbformat_minor": 2
}
