{
 "cells": [
  {
   "cell_type": "code",
   "execution_count": 1,
   "metadata": {},
   "outputs": [],
   "source": [
    "import argparse\n",
    "import json\n",
    "from sensor_msgs.msg import Image\n",
    "from cv_bridge import CvBridge\n",
    "import tf\n",
    "import actionlib\n",
    "from move_base_msgs.msg import MoveBaseAction, MoveBaseGoal\n",
    "import os\n",
    "import csv\n",
    "import cv2\n",
    "from nerf_vision_utils import *\n",
    "from IPython.display import clear_output\n",
    "import matplotlib.pyplot as plt\n",
    "%matplotlib inline"
   ]
  },
  {
   "cell_type": "code",
   "execution_count": 2,
   "metadata": {},
   "outputs": [
    {
     "name": "stdout",
     "output_type": "stream",
     "text": [
      "/home/boomalope/nerf_estimator/src/nerf_estimator/nerf_vision/scripts\n",
      "Camera Topic: /camera/camera1/image_raw\n",
      "Camera Frame: camera_link_optical\n",
      "Robot Frame: base_link\n",
      "Move Base Frame: world\n",
      "[[2.0, 0.0, 0.0], [2.0, 0.0, 0.25132741228718347], [2.0, 0.0, 0.5026548245743669], [2.0, 0.0, 0.7539822368615503], [2.0, 0.0, 1.0053096491487339], [2.0, 0.0, 1.2566370614359172], [2.0, 0.0, 1.5079644737231006], [2.0, 0.0, 1.7592918860102842], [2.0, 0.0, 2.0106192982974678], [2.0, 0.0, 2.261946710584651], [2.0, 0.0, 2.5132741228718345], [2.0, 0.0, 2.764601535159018], [2.0, 0.0, 3.015928947446201], [2.0, 0.0, 3.267256359733385], [2.0, 0.0, 3.5185837720205684], [2.0, 0.0, 3.7699111843077513], [2.0, 0.0, 4.0212385965949355], [2.0, 0.0, 4.272566008882119], [2.0, 0.0, 4.523893421169302], [2.0, 0.0, 4.775220833456485], [2.0, 0.0, 5.026548245743669], [2.0, 0.0, 5.277875658030853], [2.0, 0.0, 5.529203070318036], [2.0, 0.0, 5.780530482605219], [2.0, 0.0, 6.031857894892402], [2.5, 0.0, 0.0], [2.5, 0.0, 0.25132741228718347], [2.5, 0.0, 0.5026548245743669], [2.5, 0.0, 0.7539822368615503], [2.5, 0.0, 1.0053096491487339], [2.5, 0.0, 1.2566370614359172], [2.5, 0.0, 1.5079644737231006], [2.5, 0.0, 1.7592918860102842], [2.5, 0.0, 2.0106192982974678], [2.5, 0.0, 2.261946710584651], [2.5, 0.0, 2.5132741228718345], [2.5, 0.0, 2.764601535159018], [2.5, 0.0, 3.015928947446201], [2.5, 0.0, 3.267256359733385], [2.5, 0.0, 3.5185837720205684], [2.5, 0.0, 3.7699111843077513], [2.5, 0.0, 4.0212385965949355], [2.5, 0.0, 4.272566008882119], [2.5, 0.0, 4.523893421169302], [2.5, 0.0, 4.775220833456485], [2.5, 0.0, 5.026548245743669], [2.5, 0.0, 5.277875658030853], [2.5, 0.0, 5.529203070318036], [2.5, 0.0, 5.780530482605219], [2.5, 0.0, 6.031857894892402], [3.0, 0.0, 0.0], [3.0, 0.0, 0.25132741228718347], [3.0, 0.0, 0.5026548245743669], [3.0, 0.0, 0.7539822368615503], [3.0, 0.0, 1.0053096491487339], [3.0, 0.0, 1.2566370614359172], [3.0, 0.0, 1.5079644737231006], [3.0, 0.0, 1.7592918860102842], [3.0, 0.0, 2.0106192982974678], [3.0, 0.0, 2.261946710584651], [3.0, 0.0, 2.5132741228718345], [3.0, 0.0, 2.764601535159018], [3.0, 0.0, 3.015928947446201], [3.0, 0.0, 3.267256359733385], [3.0, 0.0, 3.5185837720205684], [3.0, 0.0, 3.7699111843077513], [3.0, 0.0, 4.0212385965949355], [3.0, 0.0, 4.272566008882119], [3.0, 0.0, 4.523893421169302], [3.0, 0.0, 4.775220833456485], [3.0, 0.0, 5.026548245743669], [3.0, 0.0, 5.277875658030853], [3.0, 0.0, 5.529203070318036], [3.0, 0.0, 5.780530482605219], [3.0, 0.0, 6.031857894892402], [3.5, 0.0, 0.0], [3.5, 0.0, 0.25132741228718347], [3.5, 0.0, 0.5026548245743669], [3.5, 0.0, 0.7539822368615503], [3.5, 0.0, 1.0053096491487339], [3.5, 0.0, 1.2566370614359172], [3.5, 0.0, 1.5079644737231006], [3.5, 0.0, 1.7592918860102842], [3.5, 0.0, 2.0106192982974678], [3.5, 0.0, 2.261946710584651], [3.5, 0.0, 2.5132741228718345], [3.5, 0.0, 2.764601535159018], [3.5, 0.0, 3.015928947446201], [3.5, 0.0, 3.267256359733385], [3.5, 0.0, 3.5185837720205684], [3.5, 0.0, 3.7699111843077513], [3.5, 0.0, 4.0212385965949355], [3.5, 0.0, 4.272566008882119], [3.5, 0.0, 4.523893421169302], [3.5, 0.0, 4.775220833456485], [3.5, 0.0, 5.026548245743669], [3.5, 0.0, 5.277875658030853], [3.5, 0.0, 5.529203070318036], [3.5, 0.0, 5.780530482605219], [3.5, 0.0, 6.031857894892402]]\n",
      "Save Path: /home/boomalope/nerf_estimator/src/nerf_estimator/nerf_vision/scripts/../data/4_pts_1m5\n"
     ]
    }
   ],
   "source": [
    "#Get relative path to the current file\n",
    "PATH = os.getcwd()\n",
    "print(PATH)\n",
    "CONGIG_PATH = os.path.join(PATH, '../json/jackal.json')\n",
    "\n",
    "#Read the config file as a json\n",
    "move_base_frame = \"\"\n",
    "camera_topic = \"\"\n",
    "camere_frame = \"\"\n",
    "robot_frame = \"\"\n",
    "\n",
    "with open(CONGIG_PATH) as f:\n",
    "    config_dict = json.load(f)\n",
    "    camera_topic = config_dict[\"camera_topic\"]\n",
    "    camera_frame = config_dict[\"camera_frame\"]\n",
    "    robot_frame = config_dict[\"robot_frame\"]\n",
    "    move_base_frame = config_dict[\"move_base_frame\"]\n",
    "print(\"Camera Topic:\", camera_topic)\n",
    "print(\"Camera Frame:\", camera_frame)\n",
    "print(\"Robot Frame:\", robot_frame)\n",
    "print(\"Move Base Frame:\", move_base_frame)\n",
    "\n",
    "#Read the coordinates file as a csv\n",
    "COORDINATES_PATH = os.path.join(PATH, '../targets/4_pts.csv')\n",
    "coordinates = []\n",
    "with open(COORDINATES_PATH) as f:\n",
    "    reader = csv.reader(f)\n",
    "    for row in reader:\n",
    "        #Convert the string to float\n",
    "        row = [float(i) for i in row]\n",
    "        coordinates.append(row)\n",
    "print(coordinates)\n",
    "\n",
    "SAVE_PATH = os.path.join(PATH, '../data/4_pts_1m5')\n",
    "print(\"Save Path:\", SAVE_PATH)\n",
    "#Create the save path if it does not exist\n",
    "if not os.path.exists(SAVE_PATH):\n",
    "    os.makedirs(SAVE_PATH)\n"
   ]
  },
  {
   "cell_type": "code",
   "execution_count": 3,
   "metadata": {},
   "outputs": [
    {
     "data": {
      "text/plain": [
       "<rospy.topics.Subscriber at 0x7f0b4af13f10>"
      ]
     },
     "execution_count": 3,
     "metadata": {},
     "output_type": "execute_result"
    }
   ],
   "source": [
    "rospy.init_node('data_collection')\n",
    "\n",
    "#Initialize the odom injector\n",
    "client = actionlib.SimpleActionClient(\"move_base\",MoveBaseAction)\n",
    "client.wait_for_server()\n",
    "\n",
    "current_camera_img = None\n",
    "#Initialize the camera subscriber\n",
    "def callback(data):\n",
    "    global current_camera_img\n",
    "    cv_image = getCameraTopicAsCvImage(data)\n",
    "    #Convert the image to BGR\n",
    "    cv_image = cv2.cvtColor(cv_image, cv2.COLOR_RGB2BGR)\n",
    "    current_camera_img = cv_image\n",
    "# Subscribe to the camera topic\n",
    "rospy.Subscriber(camera_topic, Image, callback)"
   ]
  },
  {
   "cell_type": "code",
   "execution_count": 4,
   "metadata": {},
   "outputs": [
    {
     "name": "stdout",
     "output_type": "stream",
     "text": [
      "Going to:  [3.0, 0.0, 2.0106192982974678]\n",
      "Reached:  [3.0, 0.0, 2.0106192982974678]\n"
     ]
    },
    {
     "name": "stderr",
     "output_type": "stream",
     "text": [
      "Error:   TF_DENORMALIZED_QUATERNION: Ignoring transform for child_frame_id \"camera_link\" from authority \"/camera_link_tf\" because of an invalid quaternion in the transform (0.000000 0.000000 0.000000 1.500000)\n",
      "         at line 255 in /tmp/binarydeb/ros-noetic-tf2-0.7.7/src/buffer_core.cpp\n"
     ]
    },
    {
     "ename": "KeyboardInterrupt",
     "evalue": "",
     "output_type": "error",
     "traceback": [
      "\u001b[0;31m---------------------------------------------------------------------------\u001b[0m",
      "\u001b[0;31mKeyboardInterrupt\u001b[0m                         Traceback (most recent call last)",
      "\u001b[1;32m/home/boomalope/nerf_estimator/src/nerf_estimator/nerf_vision/scripts/data_collection.ipynb Cell 4\u001b[0m line \u001b[0;36m1\n\u001b[1;32m     <a href='vscode-notebook-cell:/home/boomalope/nerf_estimator/src/nerf_estimator/nerf_vision/scripts/data_collection.ipynb#W3sZmlsZQ%3D%3D?line=13'>14</a>\u001b[0m \u001b[39mprint\u001b[39m(\u001b[39m\"\u001b[39m\u001b[39mReached: \u001b[39m\u001b[39m\"\u001b[39m, c)\n\u001b[1;32m     <a href='vscode-notebook-cell:/home/boomalope/nerf_estimator/src/nerf_estimator/nerf_vision/scripts/data_collection.ipynb#W3sZmlsZQ%3D%3D?line=15'>16</a>\u001b[0m \u001b[39m#Calculate relative pose\u001b[39;00m\n\u001b[0;32m---> <a href='vscode-notebook-cell:/home/boomalope/nerf_estimator/src/nerf_estimator/nerf_vision/scripts/data_collection.ipynb#W3sZmlsZQ%3D%3D?line=16'>17</a>\u001b[0m xyz, q \u001b[39m=\u001b[39m getRobotPose(camera_frame, robot_frame)\n\u001b[1;32m     <a href='vscode-notebook-cell:/home/boomalope/nerf_estimator/src/nerf_estimator/nerf_vision/scripts/data_collection.ipynb#W3sZmlsZQ%3D%3D?line=17'>18</a>\u001b[0m \u001b[39mprint\u001b[39m(\u001b[39m\"\u001b[39m\u001b[39mxyz: \u001b[39m\u001b[39m\"\u001b[39m, xyz)\n\u001b[1;32m     <a href='vscode-notebook-cell:/home/boomalope/nerf_estimator/src/nerf_estimator/nerf_vision/scripts/data_collection.ipynb#W3sZmlsZQ%3D%3D?line=18'>19</a>\u001b[0m \u001b[39mprint\u001b[39m(\u001b[39m\"\u001b[39m\u001b[39mq: \u001b[39m\u001b[39m\"\u001b[39m, q)\n",
      "File \u001b[0;32m~/nerf_estimator/src/nerf_estimator/nerf_vision/scripts/nerf_vision_utils.py:51\u001b[0m, in \u001b[0;36mgetRobotPose\u001b[0;34m(camera_frame, robot_frame, buffer_length, timeout)\u001b[0m\n\u001b[1;32m     49\u001b[0m tfBuffer \u001b[39m=\u001b[39m tf2_ros\u001b[39m.\u001b[39mBuffer(rospy\u001b[39m.\u001b[39mDuration(buffer_length)) \u001b[39m#tf buffer length\u001b[39;00m\n\u001b[1;32m     50\u001b[0m tf2_ros\u001b[39m.\u001b[39mTransformListener(tfBuffer)\n\u001b[0;32m---> 51\u001b[0m currentTf \u001b[39m=\u001b[39m tfBuffer\u001b[39m.\u001b[39;49mlookup_transform(camera_frame, robot_frame, rospy\u001b[39m.\u001b[39;49mTime(\u001b[39m0\u001b[39;49m), rospy\u001b[39m.\u001b[39;49mDuration(timeout))\u001b[39m.\u001b[39mtransform\n\u001b[1;32m     53\u001b[0m \u001b[39m#Transform from quaternion to euler\u001b[39;00m\n\u001b[1;32m     54\u001b[0m xyz \u001b[39m=\u001b[39m [currentTf\u001b[39m.\u001b[39mtranslation\u001b[39m.\u001b[39mx, currentTf\u001b[39m.\u001b[39mtranslation\u001b[39m.\u001b[39my, currentTf\u001b[39m.\u001b[39mtranslation\u001b[39m.\u001b[39mz]\n",
      "File \u001b[0;32m/opt/ros/noetic/lib/python3/dist-packages/tf2_ros/buffer.py:89\u001b[0m, in \u001b[0;36mBuffer.lookup_transform\u001b[0;34m(self, target_frame, source_frame, time, timeout)\u001b[0m\n\u001b[1;32m     77\u001b[0m \u001b[39mdef\u001b[39;00m \u001b[39mlookup_transform\u001b[39m(\u001b[39mself\u001b[39m, target_frame, source_frame, time, timeout\u001b[39m=\u001b[39mrospy\u001b[39m.\u001b[39mDuration(\u001b[39m0.0\u001b[39m)):\n\u001b[1;32m     78\u001b[0m \u001b[39m    \u001b[39m\u001b[39m\"\"\"\u001b[39;00m\n\u001b[1;32m     79\u001b[0m \u001b[39m    Get the transform from the source frame to the target frame.\u001b[39;00m\n\u001b[1;32m     80\u001b[0m \n\u001b[0;32m   (...)\u001b[0m\n\u001b[1;32m     86\u001b[0m \u001b[39m    :rtype: :class:`geometry_msgs.msg.TransformStamped`\u001b[39;00m\n\u001b[1;32m     87\u001b[0m \u001b[39m    \"\"\"\u001b[39;00m\n\u001b[0;32m---> 89\u001b[0m     \u001b[39mself\u001b[39;49m\u001b[39m.\u001b[39;49mcan_transform(target_frame, source_frame, time, timeout)\n\u001b[1;32m     90\u001b[0m     \u001b[39mreturn\u001b[39;00m \u001b[39mself\u001b[39m\u001b[39m.\u001b[39mlookup_transform_core(target_frame, source_frame, time)\n",
      "File \u001b[0;32m/opt/ros/noetic/lib/python3/dist-packages/tf2_ros/buffer.py:127\u001b[0m, in \u001b[0;36mBuffer.can_transform\u001b[0;34m(self, target_frame, source_frame, time, timeout, return_debug_tuple)\u001b[0m\n\u001b[1;32m    123\u001b[0m     polling_interval \u001b[39m=\u001b[39m timeout \u001b[39m*\u001b[39m \u001b[39mself\u001b[39m\u001b[39m.\u001b[39mCAN_TRANSFORM_POLLING_SCALE\n\u001b[1;32m    124\u001b[0m     \u001b[39mwhile\u001b[39;00m (rospy\u001b[39m.\u001b[39mTime\u001b[39m.\u001b[39mnow() \u001b[39m<\u001b[39m start_time \u001b[39m+\u001b[39m timeout \u001b[39mand\u001b[39;00m \n\u001b[1;32m    125\u001b[0m            \u001b[39mnot\u001b[39;00m \u001b[39mself\u001b[39m\u001b[39m.\u001b[39mcan_transform_core(target_frame, source_frame, time)[\u001b[39m0\u001b[39m] \u001b[39mand\u001b[39;00m\n\u001b[1;32m    126\u001b[0m            (rospy\u001b[39m.\u001b[39mTime\u001b[39m.\u001b[39mnow()\u001b[39m+\u001b[39mrospy\u001b[39m.\u001b[39mDuration(\u001b[39m3.0\u001b[39m)) \u001b[39m>\u001b[39m\u001b[39m=\u001b[39m start_time): \u001b[39m# big jumps in time are likely bag loops, so break for them\u001b[39;00m\n\u001b[0;32m--> 127\u001b[0m         rospy\u001b[39m.\u001b[39;49msleep(polling_interval)\n\u001b[1;32m    128\u001b[0m core_result \u001b[39m=\u001b[39m \u001b[39mself\u001b[39m\u001b[39m.\u001b[39mcan_transform_core(target_frame, source_frame, time)\n\u001b[1;32m    129\u001b[0m \u001b[39mif\u001b[39;00m return_debug_tuple:\n",
      "File \u001b[0;32m/opt/ros/noetic/lib/python3/dist-packages/rospy/timer.py:159\u001b[0m, in \u001b[0;36msleep\u001b[0;34m(duration)\u001b[0m\n\u001b[1;32m    155\u001b[0m \u001b[39mwhile\u001b[39;00m rospy\u001b[39m.\u001b[39mrostime\u001b[39m.\u001b[39mget_rostime() \u001b[39m<\u001b[39m sleep_t \u001b[39mand\u001b[39;00m \\\n\u001b[1;32m    156\u001b[0m       rospy\u001b[39m.\u001b[39mrostime\u001b[39m.\u001b[39mget_rostime() \u001b[39m>\u001b[39m\u001b[39m=\u001b[39m initial_rostime \u001b[39mand\u001b[39;00m \\\n\u001b[1;32m    157\u001b[0m           \u001b[39mnot\u001b[39;00m rospy\u001b[39m.\u001b[39mcore\u001b[39m.\u001b[39mis_shutdown():\n\u001b[1;32m    158\u001b[0m     \u001b[39mwith\u001b[39;00m rostime_cond:\n\u001b[0;32m--> 159\u001b[0m         rostime_cond\u001b[39m.\u001b[39;49mwait(\u001b[39m0.5\u001b[39;49m)\n\u001b[1;32m    161\u001b[0m \u001b[39mif\u001b[39;00m rospy\u001b[39m.\u001b[39mrostime\u001b[39m.\u001b[39mget_rostime() \u001b[39m<\u001b[39m initial_rostime:\n\u001b[1;32m    162\u001b[0m     time_jump \u001b[39m=\u001b[39m (initial_rostime \u001b[39m-\u001b[39m rospy\u001b[39m.\u001b[39mrostime\u001b[39m.\u001b[39mget_rostime())\u001b[39m.\u001b[39mto_sec()\n",
      "File \u001b[0;32m/usr/lib/python3.8/threading.py:306\u001b[0m, in \u001b[0;36mCondition.wait\u001b[0;34m(self, timeout)\u001b[0m\n\u001b[1;32m    304\u001b[0m \u001b[39melse\u001b[39;00m:\n\u001b[1;32m    305\u001b[0m     \u001b[39mif\u001b[39;00m timeout \u001b[39m>\u001b[39m \u001b[39m0\u001b[39m:\n\u001b[0;32m--> 306\u001b[0m         gotit \u001b[39m=\u001b[39m waiter\u001b[39m.\u001b[39;49macquire(\u001b[39mTrue\u001b[39;49;00m, timeout)\n\u001b[1;32m    307\u001b[0m     \u001b[39melse\u001b[39;00m:\n\u001b[1;32m    308\u001b[0m         gotit \u001b[39m=\u001b[39m waiter\u001b[39m.\u001b[39macquire(\u001b[39mFalse\u001b[39;00m)\n",
      "\u001b[0;31mKeyboardInterrupt\u001b[0m: "
     ]
    }
   ],
   "source": [
    "#Iterate through coordiates, capturing a picture and pose once arriving at each coordinate\n",
    "client = actionlib.SimpleActionClient(\"move_base\",MoveBaseAction)\n",
    "client.wait_for_server()\n",
    "for i, c in enumerate(coordinates):\n",
    "    #Clear the output\n",
    "    clear_output(wait=True)\n",
    "\n",
    "    print(\"Going to: \", c)\n",
    "    \n",
    "    #Navigate to goal\n",
    "    goal = getMoveBaseGoal(move_base_frame, c[0], c[1], c[2])\n",
    "    client.send_goal(goal)\n",
    "    client.wait_for_result()\n",
    "    print(\"Reached: \", c)\n",
    "\n",
    "    #Calculate relative pose\n",
    "    xyz, q = getRobotPose(camera_frame, robot_frame)\n",
    "    print(\"xyz: \", xyz)\n",
    "    print(\"q: \", q)\n",
    "\n",
    "    #Capture image\n",
    "    plt.imshow(current_camera_img)\n",
    "    plt.show()\n",
    "\n",
    "    #Save image and pose\n",
    "    img_name = str(i) + '.png'\n",
    "    pose_name = str(i) + '.txt'\n",
    "    img_path = os.path.join(SAVE_PATH, img_name)\n",
    "    pose_path = os.path.join(SAVE_PATH, pose_name)\n",
    "    cv2.imwrite(img_path, current_camera_img)\n",
    "    with open(pose_path, 'w') as f:\n",
    "        xyz_string = str(xyz[0])+', '+ str(xyz[1])+', '+str(xyz[2])\n",
    "        q_string = str(q[0]) + ', ' + str(q[1]) + ', ' + str(q[2]) + ', ' + str(q[3])\n",
    "        goal_string = str(c[0])+', '+str(c[1])+', '+str(c[2])\n",
    "        f.write(xyz_string+', '+q_string+', '+goal_string)"
   ]
  }
 ],
 "metadata": {
  "kernelspec": {
   "display_name": "Python 3",
   "language": "python",
   "name": "python3"
  },
  "language_info": {
   "codemirror_mode": {
    "name": "ipython",
    "version": 3
   },
   "file_extension": ".py",
   "mimetype": "text/x-python",
   "name": "python",
   "nbconvert_exporter": "python",
   "pygments_lexer": "ipython3",
   "version": "3.8.10"
  }
 },
 "nbformat": 4,
 "nbformat_minor": 2
}
