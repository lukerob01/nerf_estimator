{
 "cells": [
  {
   "cell_type": "code",
   "execution_count": 1,
   "metadata": {},
   "outputs": [],
   "source": [
    "import argparse\n",
    "import json\n",
    "from sensor_msgs.msg import Image\n",
    "from cv_bridge import CvBridge\n",
    "import tf\n",
    "import actionlib\n",
    "from move_base_msgs.msg import MoveBaseAction, MoveBaseGoal\n",
    "import os\n",
    "import csv\n",
    "import cv2\n",
    "from nerf_vision_utils import *\n",
    "from IPython.display import clear_output\n",
    "import matplotlib.pyplot as plt\n",
    "%matplotlib inline"
   ]
  },
  {
   "cell_type": "code",
   "execution_count": 2,
   "metadata": {},
   "outputs": [
    {
     "name": "stdout",
     "output_type": "stream",
     "text": [
      "/home/boomalope/nerf_estimator/src/nerf_estimator/nerf_vision/scripts\n",
      "Camera Topic: /camera/camera1/image_raw\n",
      "Camera Frame: camera_link_optical\n",
      "Robot Frame: base_link\n",
      "Move Base Frame: world\n",
      "[[2.0, 0.0, 0.0], [2.0, 0.0, 0.08726646259971647], [2.0, 0.0, 0.17453292519943295], [2.0, 0.0, 0.2617993877991494], [2.0, 0.0, 0.3490658503988659], [2.0, 0.0, 0.4363323129985824], [2.0, 0.0, 0.5235987755982988], [2.0, 0.0, 0.6108652381980153], [2.0, 0.0, 0.6981317007977318], [2.0, 0.0, 0.7853981633974483], [2.0, 0.0, 0.8726646259971648], [2.0, 0.0, 0.9599310885968811], [2.0, 0.0, 1.0471975511965976], [2.0, 0.0, 1.1344640137963142], [2.0, 0.0, 1.2217304763960306], [2.0, 0.0, 1.308996938995747], [2.0, 0.0, 1.3962634015954636], [2.0, 0.0, 1.4835298641951802], [2.0, 0.0, 1.5707963267948966], [2.0, 0.0, 1.658062789394613], [2.0, 0.0, 1.7453292519943295], [2.0, 0.0, 1.8325957145940461], [2.0, 0.0, 1.9198621771937623], [2.0, 0.0, 2.007128639793479], [2.0, 0.0, 2.0943951023931953], [2.0, 0.0, 2.181661564992912], [2.0, 0.0, 2.2689280275926285], [2.0, 0.0, 2.356194490192345], [2.0, 0.0, 2.443460952792061], [2.0, 0.0, 2.530727415391778], [2.0, 0.0, 2.617993877991494], [2.0, 0.0, 2.705260340591211], [2.0, 0.0, 2.792526803190927], [2.0, 0.0, 2.879793265790644], [2.0, 0.0, 2.9670597283903604], [2.0, 0.0, 3.0543261909900767], [2.0, 0.0, 3.141592653589793], [2.0, 0.0, 3.2288591161895095], [2.0, 0.0, 3.316125578789226], [2.0, 0.0, 3.4033920413889422], [2.0, 0.0, 3.490658503988659], [2.0, 0.0, 3.577924966588375], [2.0, 0.0, 3.6651914291880923], [2.0, 0.0, 3.752457891787808], [2.0, 0.0, 3.8397243543875246], [2.0, 0.0, 3.9269908169872414], [2.0, 0.0, 4.014257279586958], [2.0, 0.0, 4.101523742186675], [2.0, 0.0, 4.1887902047863905], [2.0, 0.0, 4.276056667386107], [2.0, 0.0, 4.363323129985824], [2.0, 0.0, 4.4505895925855405], [2.0, 0.0, 4.537856055185257], [2.0, 0.0, 4.625122517784973], [2.0, 0.0, 4.71238898038469], [2.0, 0.0, 4.799655442984406], [2.0, 0.0, 4.886921905584122], [2.0, 0.0, 4.974188368183839], [2.0, 0.0, 5.061454830783556], [2.0, 0.0, 5.148721293383272], [2.0, 0.0, 5.235987755982988], [2.0, 0.0, 5.323254218582705], [2.0, 0.0, 5.410520681182422], [2.0, 0.0, 5.497787143782138], [2.0, 0.0, 5.585053606381854], [2.0, 0.0, 5.672320068981571], [2.0, 0.0, 5.759586531581288], [2.0, 0.0, 5.8468529941810035], [2.0, 0.0, 5.934119456780721], [2.0, 0.0, 6.021385919380437], [2.0, 0.0, 6.1086523819801535], [2.0, 0.0, 6.19591884457987], [2.5, 0.0, 0.0], [2.5, 0.0, 0.08726646259971647], [2.5, 0.0, 0.17453292519943295], [2.5, 0.0, 0.2617993877991494], [2.5, 0.0, 0.3490658503988659], [2.5, 0.0, 0.4363323129985824], [2.5, 0.0, 0.5235987755982988], [2.5, 0.0, 0.6108652381980153], [2.5, 0.0, 0.6981317007977318], [2.5, 0.0, 0.7853981633974483], [2.5, 0.0, 0.8726646259971648], [2.5, 0.0, 0.9599310885968811], [2.5, 0.0, 1.0471975511965976], [2.5, 0.0, 1.1344640137963142], [2.5, 0.0, 1.2217304763960306], [2.5, 0.0, 1.308996938995747], [2.5, 0.0, 1.3962634015954636], [2.5, 0.0, 1.4835298641951802], [2.5, 0.0, 1.5707963267948966], [2.5, 0.0, 1.658062789394613], [2.5, 0.0, 1.7453292519943295], [2.5, 0.0, 1.8325957145940461], [2.5, 0.0, 1.9198621771937623], [2.5, 0.0, 2.007128639793479], [2.5, 0.0, 2.0943951023931953], [2.5, 0.0, 2.181661564992912], [2.5, 0.0, 2.2689280275926285], [2.5, 0.0, 2.356194490192345], [2.5, 0.0, 2.443460952792061], [2.5, 0.0, 2.530727415391778], [2.5, 0.0, 2.617993877991494], [2.5, 0.0, 2.705260340591211], [2.5, 0.0, 2.792526803190927], [2.5, 0.0, 2.879793265790644], [2.5, 0.0, 2.9670597283903604], [2.5, 0.0, 3.0543261909900767], [2.5, 0.0, 3.141592653589793], [2.5, 0.0, 3.2288591161895095], [2.5, 0.0, 3.316125578789226], [2.5, 0.0, 3.4033920413889422], [2.5, 0.0, 3.490658503988659], [2.5, 0.0, 3.577924966588375], [2.5, 0.0, 3.6651914291880923], [2.5, 0.0, 3.752457891787808], [2.5, 0.0, 3.8397243543875246], [2.5, 0.0, 3.9269908169872414], [2.5, 0.0, 4.014257279586958], [2.5, 0.0, 4.101523742186675], [2.5, 0.0, 4.1887902047863905], [2.5, 0.0, 4.276056667386107], [2.5, 0.0, 4.363323129985824], [2.5, 0.0, 4.4505895925855405], [2.5, 0.0, 4.537856055185257], [2.5, 0.0, 4.625122517784973], [2.5, 0.0, 4.71238898038469], [2.5, 0.0, 4.799655442984406], [2.5, 0.0, 4.886921905584122], [2.5, 0.0, 4.974188368183839], [2.5, 0.0, 5.061454830783556], [2.5, 0.0, 5.148721293383272], [2.5, 0.0, 5.235987755982988], [2.5, 0.0, 5.323254218582705], [2.5, 0.0, 5.410520681182422], [2.5, 0.0, 5.497787143782138], [2.5, 0.0, 5.585053606381854], [2.5, 0.0, 5.672320068981571], [2.5, 0.0, 5.759586531581288], [2.5, 0.0, 5.8468529941810035], [2.5, 0.0, 5.934119456780721], [2.5, 0.0, 6.021385919380437], [2.5, 0.0, 6.1086523819801535], [2.5, 0.0, 6.19591884457987], [3.5, 0.0, 0.0], [3.5, 0.0, 0.08726646259971647], [3.5, 0.0, 0.17453292519943295], [3.5, 0.0, 0.2617993877991494], [3.5, 0.0, 0.3490658503988659], [3.5, 0.0, 0.4363323129985824], [3.5, 0.0, 0.5235987755982988], [3.5, 0.0, 0.6108652381980153], [3.5, 0.0, 0.6981317007977318], [3.5, 0.0, 0.7853981633974483], [3.5, 0.0, 0.8726646259971648], [3.5, 0.0, 0.9599310885968811], [3.5, 0.0, 1.0471975511965976], [3.5, 0.0, 1.1344640137963142], [3.5, 0.0, 1.2217304763960306], [3.5, 0.0, 1.308996938995747], [3.5, 0.0, 1.3962634015954636], [3.5, 0.0, 1.4835298641951802], [3.5, 0.0, 1.5707963267948966], [3.5, 0.0, 1.658062789394613], [3.5, 0.0, 1.7453292519943295], [3.5, 0.0, 1.8325957145940461], [3.5, 0.0, 1.9198621771937623], [3.5, 0.0, 2.007128639793479], [3.5, 0.0, 2.0943951023931953], [3.5, 0.0, 2.181661564992912], [3.5, 0.0, 2.2689280275926285], [3.5, 0.0, 2.356194490192345], [3.5, 0.0, 2.443460952792061], [3.5, 0.0, 2.530727415391778], [3.5, 0.0, 2.617993877991494], [3.5, 0.0, 2.705260340591211], [3.5, 0.0, 2.792526803190927], [3.5, 0.0, 2.879793265790644], [3.5, 0.0, 2.9670597283903604], [3.5, 0.0, 3.0543261909900767], [3.5, 0.0, 3.141592653589793], [3.5, 0.0, 3.2288591161895095], [3.5, 0.0, 3.316125578789226], [3.5, 0.0, 3.4033920413889422], [3.5, 0.0, 3.490658503988659], [3.5, 0.0, 3.577924966588375], [3.5, 0.0, 3.6651914291880923], [3.5, 0.0, 3.752457891787808], [3.5, 0.0, 3.8397243543875246], [3.5, 0.0, 3.9269908169872414], [3.5, 0.0, 4.014257279586958], [3.5, 0.0, 4.101523742186675], [3.5, 0.0, 4.1887902047863905], [3.5, 0.0, 4.276056667386107], [3.5, 0.0, 4.363323129985824], [3.5, 0.0, 4.4505895925855405], [3.5, 0.0, 4.537856055185257], [3.5, 0.0, 4.625122517784973], [3.5, 0.0, 4.71238898038469], [3.5, 0.0, 4.799655442984406], [3.5, 0.0, 4.886921905584122], [3.5, 0.0, 4.974188368183839], [3.5, 0.0, 5.061454830783556], [3.5, 0.0, 5.148721293383272], [3.5, 0.0, 5.235987755982988], [3.5, 0.0, 5.323254218582705], [3.5, 0.0, 5.410520681182422], [3.5, 0.0, 5.497787143782138], [3.5, 0.0, 5.585053606381854], [3.5, 0.0, 5.672320068981571], [3.5, 0.0, 5.759586531581288], [3.5, 0.0, 5.8468529941810035], [3.5, 0.0, 5.934119456780721], [3.5, 0.0, 6.021385919380437], [3.5, 0.0, 6.1086523819801535], [3.5, 0.0, 6.19591884457987]]\n",
      "Save Path: /home/boomalope/nerf_estimator/src/nerf_estimator/nerf_vision/scripts/../data/3_pts\n"
     ]
    }
   ],
   "source": [
    "#Get relative path to the current file\n",
    "PATH = os.getcwd()\n",
    "print(PATH)\n",
    "CONGIG_PATH = os.path.join(PATH, '../json/jackal.json')\n",
    "\n",
    "#Read the config file as a json\n",
    "move_base_frame = \"\"\n",
    "camera_topic = \"\"\n",
    "camere_frame = \"\"\n",
    "robot_frame = \"\"\n",
    "\n",
    "with open(CONGIG_PATH) as f:\n",
    "    config_dict = json.load(f)\n",
    "    camera_topic = config_dict[\"camera_topic\"]\n",
    "    camera_frame = config_dict[\"camera_frame\"]\n",
    "    robot_frame = config_dict[\"robot_frame\"]\n",
    "    move_base_frame = config_dict[\"move_base_frame\"]\n",
    "print(\"Camera Topic:\", camera_topic)\n",
    "print(\"Camera Frame:\", camera_frame)\n",
    "print(\"Robot Frame:\", robot_frame)\n",
    "print(\"Move Base Frame:\", move_base_frame)\n",
    "\n",
    "#Read the coordinates file as a csv\n",
    "COORDINATES_PATH = os.path.join(PATH, '../targets/3_pts.csv')\n",
    "coordinates = []\n",
    "with open(COORDINATES_PATH) as f:\n",
    "    reader = csv.reader(f)\n",
    "    for row in reader:\n",
    "        #Convert the string to float\n",
    "        row = [float(i) for i in row]\n",
    "        coordinates.append(row)\n",
    "print(coordinates)\n",
    "\n",
    "SAVE_PATH = os.path.join(PATH, '../data/3_pts')\n",
    "print(\"Save Path:\", SAVE_PATH)\n",
    "#Create the save path if it does not exist\n",
    "if not os.path.exists(SAVE_PATH):\n",
    "    os.makedirs(SAVE_PATH)\n"
   ]
  },
  {
   "cell_type": "code",
   "execution_count": 3,
   "metadata": {},
   "outputs": [
    {
     "data": {
      "text/plain": [
       "<rospy.topics.Subscriber at 0x7f2a97822f70>"
      ]
     },
     "execution_count": 3,
     "metadata": {},
     "output_type": "execute_result"
    }
   ],
   "source": [
    "rospy.init_node('data_collection')\n",
    "\n",
    "#Initialize the odom injector\n",
    "client = actionlib.SimpleActionClient(\"move_base\",MoveBaseAction)\n",
    "client.wait_for_server()\n",
    "\n",
    "current_camera_img = None\n",
    "#Initialize the camera subscriber\n",
    "def callback(data):\n",
    "    global current_camera_img\n",
    "    cv_image = getCameraTopicAsCvImage(data)\n",
    "    #Convert the image to BGR\n",
    "    cv_image = cv2.cvtColor(cv_image, cv2.COLOR_RGB2BGR)\n",
    "    current_camera_img = cv_image\n",
    "# Subscribe to the camera topic\n",
    "rospy.Subscriber(camera_topic, Image, callback)"
   ]
  },
  {
   "cell_type": "code",
   "execution_count": 4,
   "metadata": {},
   "outputs": [
    {
     "name": "stdout",
     "output_type": "stream",
     "text": [
      "Going to:  [3.5, 0.0, 6.19591884457987]\n",
      "Reached:  [3.5, 0.0, 6.19591884457987]\n",
      "xyz:  [3.825001875716365, -0.06835092068140652, -0.101357786788141]\n",
      "q:  [0.026299946129432785, -0.2573548241440603, -0.09946733506610722, 0.9608241548682129]\n"
     ]
    },
    {
     "data": {
      "image/png": "[encoded data removed]",
      "text/plain": [
       "<Figure size 640x480 with 1 Axes>"
      ]
     },
     "metadata": {},
     "output_type": "display_data"
    }
   ],
   "source": [
    "#Iterate through coordiates, capturing a picture and pose once arriving at each coordinate\n",
    "client = actionlib.SimpleActionClient(\"move_base\",MoveBaseAction)\n",
    "client.wait_for_server()\n",
    "for i, c in enumerate(coordinates):\n",
    "    #Clear the output\n",
    "    clear_output(wait=True)\n",
    "\n",
    "    print(\"Going to: \", c)\n",
    "    \n",
    "    #Navigate to goal\n",
    "    goal = getMoveBaseGoal(move_base_frame, c[0], c[1], c[2])\n",
    "    client.send_goal(goal)\n",
    "    client.wait_for_result()\n",
    "    print(\"Reached: \", c)\n",
    "\n",
    "    #Calculate relative pose\n",
    "    xyz, q = getRobotPose(camera_frame, robot_frame)\n",
    "    print(\"xyz: \", xyz)\n",
    "    print(\"q: \", q)\n",
    "\n",
    "    #Capture image\n",
    "    plt.imshow(current_camera_img)\n",
    "    plt.show()\n",
    "\n",
    "    #Save image and pose\n",
    "    img_name = str(i) + '.png'\n",
    "    pose_name = str(i) + '.txt'\n",
    "    img_path = os.path.join(SAVE_PATH, img_name)\n",
    "    pose_path = os.path.join(SAVE_PATH, pose_name)\n",
    "    cv2.imwrite(img_path, current_camera_img)\n",
    "    with open(pose_path, 'w') as f:\n",
    "        xyz_string = str(xyz[0])+', '+ str(xyz[1])+', '+str(xyz[2])\n",
    "        q_string = str(q[0]) + ', ' + str(q[1]) + ', ' + str(q[2]) + ', ' + str(q[3])\n",
    "        goal_string = str(c[0])+', '+str(c[1])+', '+str(c[2])\n",
    "        f.write(xyz_string+', '+q_string+', '+goal_string)"
   ]
  }
 ],
 "metadata": {
  "kernelspec": {
   "display_name": "Python 3",
   "language": "python",
   "name": "python3"
  },
  "language_info": {
   "codemirror_mode": {
    "name": "ipython",
    "version": 3
   },
   "file_extension": ".py",
   "mimetype": "text/x-python",
   "name": "python",
   "nbconvert_exporter": "python",
   "pygments_lexer": "ipython3",
   "version": "3.8.10"
  }
 },
 "nbformat": 4,
 "nbformat_minor": 2
}
