{
 "cells": [
  {
   "cell_type": "code",
   "execution_count": 1,
   "metadata": {},
   "outputs": [],
   "source": [
    "import argparse\n",
    "import json\n",
    "from sensor_msgs.msg import Image\n",
    "from cv_bridge import CvBridge\n",
    "import tf\n",
    "import actionlib\n",
    "from move_base_msgs.msg import MoveBaseAction, MoveBaseGoal\n",
    "import os\n",
    "import csv\n",
    "import cv2\n",
    "from nerf_vision_utils import *\n",
    "from IPython.display import clear_output\n",
    "import matplotlib.pyplot as plt\n",
    "%matplotlib inline"
   ]
  },
  {
   "cell_type": "code",
   "execution_count": 2,
   "metadata": {},
   "outputs": [
    {
     "name": "stdout",
     "output_type": "stream",
     "text": [
      "/home/boomalope/nerf_estimator/src/nerf_estimator/nerf_vision/scripts\n",
      "Camera Topic: /camera/camera1/image_raw\n",
      "Camera Frame: camera_link_optical\n",
      "Robot Frame: base_link\n",
      "Move Base Frame: world\n",
      "[[2.5, 1.0, 0.0], [2.5, 1.0, 0.15707963267948966], [2.5, 1.0, 0.3141592653589793], [2.5, 1.0, 0.47123889803846897], [2.5, 1.0, 0.6283185307179586], [2.5, 1.0, 0.7853981633974483], [2.5, 1.0, 0.9424777960769379], [2.5, 1.0, 1.0995574287564276], [2.5, 1.0, 1.2566370614359172], [2.5, 1.0, 1.413716694115407], [2.5, 1.0, 1.5707963267948966], [2.5, 1.0, 1.727875959474386], [2.5, 1.0, 1.8849555921538759], [2.5, 1.0, 2.0420352248333655], [2.5, 1.0, 2.199114857512855], [2.5, 1.0, 2.356194490192345], [2.5, 1.0, 2.5132741228718345], [2.5, 1.0, 2.670353755551324], [2.5, 1.0, 2.827433388230814], [2.5, 1.0, 2.9845130209103035], [2.5, 1.0, 3.141592653589793], [2.5, 1.0, 3.2986722862692828], [2.5, 1.0, 3.455751918948772], [2.5, 1.0, 3.612831551628262], [2.5, 1.0, 3.7699111843077517], [2.5, 1.0, 3.9269908169872414], [2.5, 1.0, 4.084070449666731], [2.5, 1.0, 4.241150082346221], [2.5, 1.0, 4.39822971502571], [2.5, 1.0, 4.5553093477052], [2.5, 1.0, 4.71238898038469], [2.5, 1.0, 4.869468613064179], [2.5, 1.0, 5.026548245743669], [2.5, 1.0, 5.183627878423159], [2.5, 1.0, 5.340707511102648], [2.5, 1.0, 5.497787143782138], [2.5, 1.0, 5.654866776461628], [2.5, 1.0, 5.811946409141117], [2.5, 1.0, 5.969026041820607], [2.5, 1.0, 6.126105674500097], [2.5, 0.0, 0.0], [2.5, 0.0, 0.15707963267948966], [2.5, 0.0, 0.3141592653589793], [2.5, 0.0, 0.47123889803846897], [2.5, 0.0, 0.6283185307179586], [2.5, 0.0, 0.7853981633974483], [2.5, 0.0, 0.9424777960769379], [2.5, 0.0, 1.0995574287564276], [2.5, 0.0, 1.2566370614359172], [2.5, 0.0, 1.413716694115407], [2.5, 0.0, 1.5707963267948966], [2.5, 0.0, 1.727875959474386], [2.5, 0.0, 1.8849555921538759], [2.5, 0.0, 2.0420352248333655], [2.5, 0.0, 2.199114857512855], [2.5, 0.0, 2.356194490192345], [2.5, 0.0, 2.5132741228718345], [2.5, 0.0, 2.670353755551324], [2.5, 0.0, 2.827433388230814], [2.5, 0.0, 2.9845130209103035], [2.5, 0.0, 3.141592653589793], [2.5, 0.0, 3.2986722862692828], [2.5, 0.0, 3.455751918948772], [2.5, 0.0, 3.612831551628262], [2.5, 0.0, 3.7699111843077517], [2.5, 0.0, 3.9269908169872414], [2.5, 0.0, 4.084070449666731], [2.5, 0.0, 4.241150082346221], [2.5, 0.0, 4.39822971502571], [2.5, 0.0, 4.5553093477052], [2.5, 0.0, 4.71238898038469], [2.5, 0.0, 4.869468613064179], [2.5, 0.0, 5.026548245743669], [2.5, 0.0, 5.183627878423159], [2.5, 0.0, 5.340707511102648], [2.5, 0.0, 5.497787143782138], [2.5, 0.0, 5.654866776461628], [2.5, 0.0, 5.811946409141117], [2.5, 0.0, 5.969026041820607], [2.5, 0.0, 6.126105674500097], [2.5, -1.0, 0.0], [2.5, -1.0, 0.15707963267948966], [2.5, -1.0, 0.3141592653589793], [2.5, -1.0, 0.47123889803846897], [2.5, -1.0, 0.6283185307179586], [2.5, -1.0, 0.7853981633974483], [2.5, -1.0, 0.9424777960769379], [2.5, -1.0, 1.0995574287564276], [2.5, -1.0, 1.2566370614359172], [2.5, -1.0, 1.413716694115407], [2.5, -1.0, 1.5707963267948966], [2.5, -1.0, 1.727875959474386], [2.5, -1.0, 1.8849555921538759], [2.5, -1.0, 2.0420352248333655], [2.5, -1.0, 2.199114857512855], [2.5, -1.0, 2.356194490192345], [2.5, -1.0, 2.5132741228718345], [2.5, -1.0, 2.670353755551324], [2.5, -1.0, 2.827433388230814], [2.5, -1.0, 2.9845130209103035], [2.5, -1.0, 3.141592653589793], [2.5, -1.0, 3.2986722862692828], [2.5, -1.0, 3.455751918948772], [2.5, -1.0, 3.612831551628262], [2.5, -1.0, 3.7699111843077517], [2.5, -1.0, 3.9269908169872414], [2.5, -1.0, 4.084070449666731], [2.5, -1.0, 4.241150082346221], [2.5, -1.0, 4.39822971502571], [2.5, -1.0, 4.5553093477052], [2.5, -1.0, 4.71238898038469], [2.5, -1.0, 4.869468613064179], [2.5, -1.0, 5.026548245743669], [2.5, -1.0, 5.183627878423159], [2.5, -1.0, 5.340707511102648], [2.5, -1.0, 5.497787143782138], [2.5, -1.0, 5.654866776461628], [2.5, -1.0, 5.811946409141117], [2.5, -1.0, 5.969026041820607], [2.5, -1.0, 6.126105674500097], [3.5, 1.0, 0.0], [3.5, 1.0, 0.15707963267948966], [3.5, 1.0, 0.3141592653589793], [3.5, 1.0, 0.47123889803846897], [3.5, 1.0, 0.6283185307179586], [3.5, 1.0, 0.7853981633974483], [3.5, 1.0, 0.9424777960769379], [3.5, 1.0, 1.0995574287564276], [3.5, 1.0, 1.2566370614359172], [3.5, 1.0, 1.413716694115407], [3.5, 1.0, 1.5707963267948966], [3.5, 1.0, 1.727875959474386], [3.5, 1.0, 1.8849555921538759], [3.5, 1.0, 2.0420352248333655], [3.5, 1.0, 2.199114857512855], [3.5, 1.0, 2.356194490192345], [3.5, 1.0, 2.5132741228718345], [3.5, 1.0, 2.670353755551324], [3.5, 1.0, 2.827433388230814], [3.5, 1.0, 2.9845130209103035], [3.5, 1.0, 3.141592653589793], [3.5, 1.0, 3.2986722862692828], [3.5, 1.0, 3.455751918948772], [3.5, 1.0, 3.612831551628262], [3.5, 1.0, 3.7699111843077517], [3.5, 1.0, 3.9269908169872414], [3.5, 1.0, 4.084070449666731], [3.5, 1.0, 4.241150082346221], [3.5, 1.0, 4.39822971502571], [3.5, 1.0, 4.5553093477052], [3.5, 1.0, 4.71238898038469], [3.5, 1.0, 4.869468613064179], [3.5, 1.0, 5.026548245743669], [3.5, 1.0, 5.183627878423159], [3.5, 1.0, 5.340707511102648], [3.5, 1.0, 5.497787143782138], [3.5, 1.0, 5.654866776461628], [3.5, 1.0, 5.811946409141117], [3.5, 1.0, 5.969026041820607], [3.5, 1.0, 6.126105674500097], [3.5, 0.0, 0.0], [3.5, 0.0, 0.15707963267948966], [3.5, 0.0, 0.3141592653589793], [3.5, 0.0, 0.47123889803846897], [3.5, 0.0, 0.6283185307179586], [3.5, 0.0, 0.7853981633974483], [3.5, 0.0, 0.9424777960769379], [3.5, 0.0, 1.0995574287564276], [3.5, 0.0, 1.2566370614359172], [3.5, 0.0, 1.413716694115407], [3.5, 0.0, 1.5707963267948966], [3.5, 0.0, 1.727875959474386], [3.5, 0.0, 1.8849555921538759], [3.5, 0.0, 2.0420352248333655], [3.5, 0.0, 2.199114857512855], [3.5, 0.0, 2.356194490192345], [3.5, 0.0, 2.5132741228718345], [3.5, 0.0, 2.670353755551324], [3.5, 0.0, 2.827433388230814], [3.5, 0.0, 2.9845130209103035], [3.5, 0.0, 3.141592653589793], [3.5, 0.0, 3.2986722862692828], [3.5, 0.0, 3.455751918948772], [3.5, 0.0, 3.612831551628262], [3.5, 0.0, 3.7699111843077517], [3.5, 0.0, 3.9269908169872414], [3.5, 0.0, 4.084070449666731], [3.5, 0.0, 4.241150082346221], [3.5, 0.0, 4.39822971502571], [3.5, 0.0, 4.5553093477052], [3.5, 0.0, 4.71238898038469], [3.5, 0.0, 4.869468613064179], [3.5, 0.0, 5.026548245743669], [3.5, 0.0, 5.183627878423159], [3.5, 0.0, 5.340707511102648], [3.5, 0.0, 5.497787143782138], [3.5, 0.0, 5.654866776461628], [3.5, 0.0, 5.811946409141117], [3.5, 0.0, 5.969026041820607], [3.5, 0.0, 6.126105674500097], [3.5, -1.0, 0.0], [3.5, -1.0, 0.15707963267948966], [3.5, -1.0, 0.3141592653589793], [3.5, -1.0, 0.47123889803846897], [3.5, -1.0, 0.6283185307179586], [3.5, -1.0, 0.7853981633974483], [3.5, -1.0, 0.9424777960769379], [3.5, -1.0, 1.0995574287564276], [3.5, -1.0, 1.2566370614359172], [3.5, -1.0, 1.413716694115407], [3.5, -1.0, 1.5707963267948966], [3.5, -1.0, 1.727875959474386], [3.5, -1.0, 1.8849555921538759], [3.5, -1.0, 2.0420352248333655], [3.5, -1.0, 2.199114857512855], [3.5, -1.0, 2.356194490192345], [3.5, -1.0, 2.5132741228718345], [3.5, -1.0, 2.670353755551324], [3.5, -1.0, 2.827433388230814], [3.5, -1.0, 2.9845130209103035], [3.5, -1.0, 3.141592653589793], [3.5, -1.0, 3.2986722862692828], [3.5, -1.0, 3.455751918948772], [3.5, -1.0, 3.612831551628262], [3.5, -1.0, 3.7699111843077517], [3.5, -1.0, 3.9269908169872414], [3.5, -1.0, 4.084070449666731], [3.5, -1.0, 4.241150082346221], [3.5, -1.0, 4.39822971502571], [3.5, -1.0, 4.5553093477052], [3.5, -1.0, 4.71238898038469], [3.5, -1.0, 4.869468613064179], [3.5, -1.0, 5.026548245743669], [3.5, -1.0, 5.183627878423159], [3.5, -1.0, 5.340707511102648], [3.5, -1.0, 5.497787143782138], [3.5, -1.0, 5.654866776461628], [3.5, -1.0, 5.811946409141117], [3.5, -1.0, 5.969026041820607], [3.5, -1.0, 6.126105674500097]]\n",
      "Save Path: /home/boomalope/nerf_estimator/src/nerf_estimator/nerf_vision/scripts/../data/6_pts\n"
     ]
    }
   ],
   "source": [
    "#Get relative path to the current file\n",
    "PATH = os.getcwd()\n",
    "print(PATH)\n",
    "CONGIG_PATH = os.path.join(PATH, '../json/jackal.json')\n",
    "\n",
    "#Read the config file as a json\n",
    "move_base_frame = \"\"\n",
    "camera_topic = \"\"\n",
    "camere_frame = \"\"\n",
    "robot_frame = \"\"\n",
    "\n",
    "with open(CONGIG_PATH) as f:\n",
    "    config_dict = json.load(f)\n",
    "    camera_topic = config_dict[\"camera_topic\"]\n",
    "    camera_frame = config_dict[\"camera_frame\"]\n",
    "    robot_frame = config_dict[\"robot_frame\"]\n",
    "    move_base_frame = config_dict[\"move_base_frame\"]\n",
    "print(\"Camera Topic:\", camera_topic)\n",
    "print(\"Camera Frame:\", camera_frame)\n",
    "print(\"Robot Frame:\", robot_frame)\n",
    "print(\"Move Base Frame:\", move_base_frame)\n",
    "\n",
    "#Read the coordinates file as a csv\n",
    "COORDINATES_PATH = os.path.join(PATH, '../targets/3_pts.csv')\n",
    "coordinates = []\n",
    "with open(COORDINATES_PATH) as f:\n",
    "    reader = csv.reader(f)\n",
    "    for row in reader:\n",
    "        #Convert the string to float\n",
    "        row = [float(i) for i in row]\n",
    "        coordinates.append(row)\n",
    "print(coordinates)\n",
    "\n",
    "SAVE_PATH = os.path.join(PATH, '../data/3_pts')\n",
    "print(\"Save Path:\", SAVE_PATH)\n",
    "#Create the save path if it does not exist\n",
    "if not os.path.exists(SAVE_PATH):\n",
    "    os.makedirs(SAVE_PATH)\n"
   ]
  },
  {
   "cell_type": "code",
   "execution_count": 3,
   "metadata": {},
   "outputs": [
    {
     "data": {
      "text/plain": [
       "<rospy.topics.Subscriber at 0x7f92a2b9a400>"
      ]
     },
     "execution_count": 3,
     "metadata": {},
     "output_type": "execute_result"
    }
   ],
   "source": [
    "rospy.init_node('data_collection')\n",
    "\n",
    "#Initialize the odom injector\n",
    "client = actionlib.SimpleActionClient(\"move_base\",MoveBaseAction)\n",
    "client.wait_for_server()\n",
    "\n",
    "current_camera_img = None\n",
    "#Initialize the camera subscriber\n",
    "def callback(data):\n",
    "    global current_camera_img\n",
    "    cv_image = getCameraTopicAsCvImage(data)\n",
    "    #Convert the image to BGR\n",
    "    cv_image = cv2.cvtColor(cv_image, cv2.COLOR_RGB2BGR)\n",
    "    current_camera_img = cv_image\n",
    "# Subscribe to the camera topic\n",
    "rospy.Subscriber(camera_topic, Image, callback)"
   ]
  },
  {
   "cell_type": "code",
   "execution_count": 4,
   "metadata": {},
   "outputs": [
    {
     "name": "stdout",
     "output_type": "stream",
     "text": [
      "Going to:  [3.5, -1.0, 6.126105674500097]\n",
      "Reached:  [3.5, -1.0, 6.126105674500097]\n",
      "xyz:  [3.6746325775590223, -0.8439458118214691, 0.0002529187019948305]\n",
      "q:  [-3.67998155638299e-05, -1.4170193072198384e-05, -0.1420901478291071, 0.9898537206753741]\n"
     ]
    },
    {
     "data": {
      "image/png": "[encoded data removed]",
      "text/plain": [
       "<Figure size 640x480 with 1 Axes>"
      ]
     },
     "metadata": {},
     "output_type": "display_data"
    }
   ],
   "source": [
    "#Iterate through coordiates, capturing a picture and pose once arriving at each coordinate\n",
    "client = actionlib.SimpleActionClient(\"move_base\",MoveBaseAction)\n",
    "client.wait_for_server()\n",
    "for i, c in enumerate(coordinates):\n",
    "    #Clear the output\n",
    "    clear_output(wait=True)\n",
    "\n",
    "    print(\"Going to: \", c)\n",
    "    \n",
    "    #Navigate to goal\n",
    "    goal = getMoveBaseGoal(move_base_frame, c[0], c[1], c[2])\n",
    "    client.send_goal(goal)\n",
    "    client.wait_for_result()\n",
    "    print(\"Reached: \", c)\n",
    "\n",
    "    #Calculate relative pose\n",
    "    xyz, q = getRobotPose(camera_frame, robot_frame)\n",
    "    print(\"xyz: \", xyz)\n",
    "    print(\"q: \", q)\n",
    "\n",
    "    #Capture image\n",
    "    plt.imshow(current_camera_img)\n",
    "    plt.show()\n",
    "\n",
    "    #Save image and pose\n",
    "    img_name = str(i) + '.png'\n",
    "    pose_name = str(i) + '.txt'\n",
    "    img_path = os.path.join(SAVE_PATH, img_name)\n",
    "    pose_path = os.path.join(SAVE_PATH, pose_name)\n",
    "    cv2.imwrite(img_path, current_camera_img)\n",
    "    with open(pose_path, 'w') as f:\n",
    "        xyz_string = str(xyz[0])+', '+ str(xyz[1])+', '+str(xyz[2])\n",
    "        q_string = str(q[0]) + ', ' + str(q[1]) + ', ' + str(q[2]) + ', ' + str(q[3])\n",
    "        goal_string = str(c[0])+', '+str(c[1])+', '+str(c[2])\n",
    "        f.write(xyz_string+', '+q_string+', '+goal_string)"
   ]
  }
 ],
 "metadata": {
  "kernelspec": {
   "display_name": "Python 3",
   "language": "python",
   "name": "python3"
  },
  "language_info": {
   "codemirror_mode": {
    "name": "ipython",
    "version": 3
   },
   "file_extension": ".py",
   "mimetype": "text/x-python",
   "name": "python",
   "nbconvert_exporter": "python",
   "pygments_lexer": "ipython3",
   "version": "3.8.10"
  }
 },
 "nbformat": 4,
 "nbformat_minor": 2
}
