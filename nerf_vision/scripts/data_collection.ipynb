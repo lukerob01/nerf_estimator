{
 "cells": [
  {
   "cell_type": "code",
   "execution_count": 1,
   "metadata": {},
   "outputs": [],
   "source": [
    "import argparse\n",
    "import json\n",
    "from sensor_msgs.msg import Image\n",
    "from cv_bridge import CvBridge\n",
    "import tf\n",
    "import actionlib\n",
    "from move_base_msgs.msg import MoveBaseAction, MoveBaseGoal\n",
    "import os\n",
    "import csv\n",
    "import cv2\n",
    "from nerf_vision_utils import *\n",
    "import matplotlib.pyplot as plt\n",
    "%matplotlib inline"
   ]
  },
  {
   "cell_type": "code",
   "execution_count": 2,
   "metadata": {},
   "outputs": [
    {
     "name": "stdout",
     "output_type": "stream",
     "text": [
      "/home/boomalope2/nerf_estimator/src/nerf_vision/scripts\n",
      "Camera Topic: /camera/camera1/image_raw\n",
      "Camera Frame: camera_link_optical\n",
      "Robot Frame: base_link\n",
      "Move Base Frame: world\n",
      "[[2.0, 2.0, 0.0], [2.0, 2.0, 0.6], [2.0, 2.0, 1.2], [2.0, 2.0, 1.8], [2.0, 2.0, 2.4], [2.0, 2.0, 3.0], [2.0, 2.0, 3.6], [2.0, 2.0, 4.2], [2.0, 2.0, 4.8], [2.0, 2.0, 5.4], [2.0, 2.0, 6.0], [2.0, 4.0, 0.0], [2.0, 4.0, 0.6], [2.0, 4.0, 1.2], [2.0, 4.0, 1.8], [2.0, 4.0, 2.4], [2.0, 4.0, 3.0], [2.0, 4.0, 3.6], [2.0, 4.0, 4.2], [2.0, 4.0, 4.8], [2.0, 4.0, 5.4], [2.0, 4.0, 6.0], [4.0, 4.0, 0.0], [4.0, 4.0, 0.6], [4.0, 4.0, 1.2], [4.0, 4.0, 1.8], [4.0, 4.0, 2.4], [4.0, 4.0, 3.0], [4.0, 4.0, 3.6], [4.0, 4.0, 4.2], [4.0, 4.0, 4.8], [4.0, 4.0, 5.4], [4.0, 4.0, 6.0]]\n",
      "Save Path: /home/boomalope2/nerf_estimator/src/nerf_vision/scripts/../data/3_targets_1\n"
     ]
    }
   ],
   "source": [
    "#Get relative path to the current file\n",
    "PATH = os.getcwd()\n",
    "print(PATH)\n",
    "CONGIG_PATH = os.path.join(PATH, '../json/jackal.json')\n",
    "\n",
    "#Read the config file as a json\n",
    "move_base_frame = \"\"\n",
    "camera_topic = \"\"\n",
    "camere_frame = \"\"\n",
    "robot_frame = \"\"\n",
    "\n",
    "with open(CONGIG_PATH) as f:\n",
    "    config_dict = json.load(f)\n",
    "    camera_topic = config_dict[\"camera_topic\"]\n",
    "    camera_frame = config_dict[\"camera_frame\"]\n",
    "    robot_frame = config_dict[\"robot_frame\"]\n",
    "    move_base_frame = config_dict[\"move_base_frame\"]\n",
    "print(\"Camera Topic:\", camera_topic)\n",
    "print(\"Camera Frame:\", camera_frame)\n",
    "print(\"Robot Frame:\", robot_frame)\n",
    "print(\"Move Base Frame:\", move_base_frame)\n",
    "\n",
    "#Read the coordinates file as a csv\n",
    "COORDINATES_PATH = os.path.join(PATH, '../targets/3_targets.csv')\n",
    "coordinates = []\n",
    "with open(COORDINATES_PATH) as f:\n",
    "    reader = csv.reader(f)\n",
    "    for row in reader:\n",
    "        #Convert the string to float\n",
    "        row = [float(i) for i in row]\n",
    "        coordinates.append(row)\n",
    "print(coordinates)\n",
    "\n",
    "SAVE_PATH = os.path.join(PATH, '../data/3_targets_1')\n",
    "print(\"Save Path:\", SAVE_PATH)\n",
    "#Create the save path if it does not exist\n",
    "if not os.path.exists(SAVE_PATH):\n",
    "    os.makedirs(SAVE_PATH)\n"
   ]
  },
  {
   "cell_type": "code",
   "execution_count": 3,
   "metadata": {},
   "outputs": [
    {
     "data": {
      "text/plain": [
       "<rospy.topics.Subscriber at 0x7f8f09f57a30>"
      ]
     },
     "execution_count": 3,
     "metadata": {},
     "output_type": "execute_result"
    }
   ],
   "source": [
    "rospy.init_node('data_collection')\n",
    "\n",
    "#Initialize the odom injector\n",
    "client = actionlib.SimpleActionClient(\"move_base\",MoveBaseAction)\n",
    "client.wait_for_server()\n",
    "\n",
    "current_camera_img = None\n",
    "#Initialize the camera subscriber\n",
    "def callback(data):\n",
    "    global current_camera_img\n",
    "    cv_image = getCameraTopicAsCvImage(data)\n",
    "    #Convert the image to BGR\n",
    "    cv_image = cv2.cvtColor(cv_image, cv2.COLOR_RGB2BGR)\n",
    "    current_camera_img = cv_image\n",
    "# Subscribe to the camera topic\n",
    "rospy.Subscriber(camera_topic, Image, callback)"
   ]
  },
  {
   "cell_type": "code",
   "execution_count": 4,
   "metadata": {},
   "outputs": [
    {
     "name": "stdout",
     "output_type": "stream",
     "text": [
      "Going to:  [2.0, 2.0, 0.0]\n"
     ]
    },
    {
     "name": "stderr",
     "output_type": "stream",
     "text": [
      "[ERROR] [1698316514.809804, 21.506000]: Got a transition callback on a goal handle that we're not tracking\n"
     ]
    },
    {
     "name": "stdout",
     "output_type": "stream",
     "text": [
      "Reached:  [2.0, 2.0, 0.0]\n",
      "xyz:  [2.518122341456841, -0.967853614948934, -1.8652436161952766]\n",
      "q:  [-0.37503304495278056, -0.07435099879650418, -0.18109393479686475, 0.9061054745178382]\n"
     ]
    },
    {
     "data": {
      "image/png": "[encoded data removed]",
      "text/plain": [
       "<Figure size 640x480 with 1 Axes>"
      ]
     },
     "metadata": {},
     "output_type": "display_data"
    },
    {
     "name": "stdout",
     "output_type": "stream",
     "text": [
      "Going to:  [2.0, 2.0, 0.6]\n",
      "Reached:  [2.0, 2.0, 0.6]\n",
      "xyz:  [2.518905549267849, -0.9679749902372993, -1.8651236934011355]\n",
      "q:  [-0.3824874714256735, -0.00555243525354393, -0.015061608833540761, 0.9238212232918742]\n"
     ]
    }
   ],
   "source": [
    "#Iterate through coordiates, capturing a picture and pose once arriving at each coordinate\n",
    "client = actionlib.SimpleActionClient(\"move_base\",MoveBaseAction)\n",
    "client.wait_for_server()\n",
    "for i, c in enumerate(coordinates):\n",
    "    print(\"Going to: \", c)\n",
    "    \n",
    "    #Navigate to goal\n",
    "    goal = getMoveBaseGoal(move_base_frame, c[0], c[1], c[2])\n",
    "    client.send_goal(goal)\n",
    "    client.wait_for_result()\n",
    "    print(\"Reached: \", c)\n",
    "\n",
    "    #Calculate relative pose\n",
    "    xyz, q = getRobotPose(camera_frame, robot_frame)\n",
    "    print(\"xyz: \", xyz)\n",
    "    print(\"q: \", q)\n",
    "\n",
    "    #Capture image\n",
    "    plt.imshow(current_camera_img)\n",
    "    plt.show()\n",
    "\n",
    "    #Save image and pose\n",
    "    img_name = str(i) + '.png'\n",
    "    pose_name = str(i) + '.txt'\n",
    "    img_path = os.path.join(SAVE_PATH, img_name)\n",
    "    pose_path = os.path.join(SAVE_PATH, pose_name)\n",
    "    cv2.imwrite(img_path, current_camera_img)\n",
    "    with open(pose_path, 'w') as f:\n",
    "        xyz_string = str(xyz[0])+', '+ str(xyz[1])+', '+str(xyz[2])\n",
    "        q_string = str(q[0]) + ', ' + str(q[1]) + ', ' + str(q[2]) + ', ' + str(q[3])\n",
    "        goal_string = str(c[0])+', '+str(c[1])+', '+str(c[2])\n",
    "        f.write(xyz_string+', '+q_string+', '+goal_string)"
   ]
  }
 ],
 "metadata": {
  "kernelspec": {
   "display_name": "Python 3",
   "language": "python",
   "name": "python3"
  },
  "language_info": {
   "codemirror_mode": {
    "name": "ipython",
    "version": 3
   },
   "file_extension": ".py",
   "mimetype": "text/x-python",
   "name": "python",
   "nbconvert_exporter": "python",
   "pygments_lexer": "ipython3",
   "version": "3.8.10"
  }
 },
 "nbformat": 4,
 "nbformat_minor": 2
}
