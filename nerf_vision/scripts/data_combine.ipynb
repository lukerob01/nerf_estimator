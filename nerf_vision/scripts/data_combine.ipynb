{
 "cells": [
  {
   "cell_type": "code",
   "execution_count": 4,
   "metadata": {},
   "outputs": [],
   "source": [
    "import os\n",
    "import cv2\n",
    "import numpy as np\n",
    "import json\n",
    "from scipy.spatial.transform import Rotation\n",
    "import matplotlib.pyplot as plt\n",
    "%matplotlib inline"
   ]
  },
  {
   "cell_type": "code",
   "execution_count": 5,
   "metadata": {},
   "outputs": [],
   "source": [
    "TARGET_PATH = os.path.join(os.getcwd(), '../../data/data_set_1')\n",
    "if not os.path.exists(TARGET_PATH):\n",
    "    os.makedirs(TARGET_PATH)\n",
    "if not os.path.exists(os.path.join(TARGET_PATH,'images')):\n",
    "    os.makedirs(os.path.join(TARGET_PATH,'images'))\n",
    "if not os.path.exists(os.path.join(TARGET_PATH,'masks')):\n",
    "    os.makedirs(os.path.join(TARGET_PATH,'masks'))"
   ]
  },
  {
   "cell_type": "code",
   "execution_count": 6,
   "metadata": {},
   "outputs": [],
   "source": [
    "ALL_DATA_PATH = [os.path.join(os.getcwd(), '../processed/4_pts_2m5')]\n",
    "ALL_DATA_PATH.append(os.path.join(os.getcwd(), '../processed/4_pts_2m'))\n",
    "ALL_DATA_PATH.append(os.path.join(os.getcwd(), '../processed/4_pts_1m5'))\n",
    "\n",
    "#Open the first transform file\n",
    "with open(os.path.join(ALL_DATA_PATH[0], 'transforms.json')) as json_file:\n",
    "    transform = json.load(json_file)\n",
    "\n",
    "global_transfrom = {}\n",
    "#Include all json parameters except for 'frames'\n",
    "for key in transform.keys():\n",
    "    if key != 'frames':\n",
    "        global_transfrom[key] = transform[key]\n",
    "\n",
    "global_cnt = 0\n",
    "global_frames = []\n",
    "for DATA_PATH in ALL_DATA_PATH:\n",
    "    with open(os.path.join(DATA_PATH,'transforms.json')) as json_file:\n",
    "        tf  = json.load(json_file)\n",
    "    for frame in tf['frames']:\n",
    "        img = cv2.imread(os.path.join(DATA_PATH, frame['file_path']))\n",
    "        mask = cv2.imread(os.path.join(DATA_PATH, frame['mask_path']), cv2.IMREAD_GRAYSCALE)\n",
    "\n",
    "        cv2.imwrite(os.path.join(TARGET_PATH, 'images', str(global_cnt)+'.png'), img)\n",
    "        cv2.imwrite(os.path.join(TARGET_PATH, 'masks', str(global_cnt)+'.png'), mask)\n",
    "                \n",
    "        new_frame = frame.copy()\n",
    "        new_frame['file_path'] = os.path.join('images', str(global_cnt)+'.png')\n",
    "        new_frame['mask_path'] = os.path.join('masks', str(global_cnt)+'.png')\n",
    "        global_frames.append(new_frame)\n",
    "\n",
    "        global_cnt += 1\n",
    "\n",
    "global_transfrom['frames'] = global_frames\n",
    "\n",
    "with open(os.path.join(TARGET_PATH, 'transforms.json'), 'w') as outfile:\n",
    "    json.dump(global_transfrom, outfile, indent=4)"
   ]
  }
 ],
 "metadata": {
  "kernelspec": {
   "display_name": "Python 3",
   "language": "python",
   "name": "python3"
  },
  "language_info": {
   "codemirror_mode": {
    "name": "ipython",
    "version": 3
   },
   "file_extension": ".py",
   "mimetype": "text/x-python",
   "name": "python",
   "nbconvert_exporter": "python",
   "pygments_lexer": "ipython3",
   "version": "3.8.10"
  }
 },
 "nbformat": 4,
 "nbformat_minor": 2
}
