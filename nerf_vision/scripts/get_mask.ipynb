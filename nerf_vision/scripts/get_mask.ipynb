{
 "cells": [
  {
   "cell_type": "code",
   "execution_count": 1,
   "metadata": {},
   "outputs": [
    {
     "name": "stderr",
     "output_type": "stream",
     "text": [
      "/home/boomalope/.local/lib/python3.8/site-packages/tqdm/auto.py:22: TqdmWarning: IProgress not found. Please update jupyter and ipywidgets. See https://ipywidgets.readthedocs.io/en/stable/user_install.html\n",
      "  from .autonotebook import tqdm as notebook_tqdm\n"
     ]
    }
   ],
   "source": [
    "import os\n",
    "from ultralytics import YOLO\n",
    "import matplotlib.pyplot as plt\n",
    "%matplotlib inline"
   ]
  },
  {
   "cell_type": "code",
   "execution_count": 2,
   "metadata": {},
   "outputs": [],
   "source": [
    "DATA = os.path.join(os.getcwd(), '../processed/3_pts')"
   ]
  },
  {
   "cell_type": "code",
   "execution_count": 10,
   "metadata": {},
   "outputs": [
    {
     "name": "stderr",
     "output_type": "stream",
     "text": [
      "\n",
      "image 1/1 /home/boomalope/nerf_estimator/src/nerf_estimator/nerf_vision/scripts/../processed/3_pts/images/0.png: 384x640 (no detections), 13.8ms\n",
      "Speed: 2.0ms preprocess, 13.8ms inference, 0.6ms postprocess per image at shape (1, 3, 384, 640)\n"
     ]
    },
    {
     "name": "stdout",
     "output_type": "stream",
     "text": [
      "/home/boomalope/nerf_estimator/src/nerf_estimator/nerf_vision/scripts/../processed/3_pts/images/0.png\n",
      "ultralytics.engine.results.Boxes object with attributes:\n",
      "\n",
      "cls: tensor([], device='cuda:0')\n",
      "conf: tensor([], device='cuda:0')\n",
      "data: tensor([], device='cuda:0', size=(0, 6))\n",
      "id: None\n",
      "is_track: False\n",
      "orig_shape: (720, 1280)\n",
      "shape: torch.Size([0, 6])\n",
      "xywh: tensor([], device='cuda:0', size=(0, 4))\n",
      "xywhn: tensor([], device='cuda:0', size=(0, 4))\n",
      "xyxy: tensor([], device='cuda:0', size=(0, 4))\n",
      "xyxyn: tensor([], device='cuda:0', size=(0, 4))\n"
     ]
    }
   ],
   "source": [
    "# Load a model\n",
    "model = YOLO(\"yolov8n.pt\")  # load a pretrained model (recommended for training)\n",
    "\n",
    "# Run inference on a single image\n",
    "img = os.path.join(DATA, 'images/0.png')\n",
    "print(img)\n",
    "results = model(img)\n",
    "\n",
    "#Results\n",
    "for r in results:\n",
    "    print(r.boxes)  # print the Boxes object containing the detection bounding boxes"
   ]
  },
  {
   "cell_type": "code",
   "execution_count": null,
   "metadata": {},
   "outputs": [],
   "source": []
  }
 ],
 "metadata": {
  "kernelspec": {
   "display_name": "Python 3",
   "language": "python",
   "name": "python3"
  },
  "language_info": {
   "codemirror_mode": {
    "name": "ipython",
    "version": 3
   },
   "file_extension": ".py",
   "mimetype": "text/x-python",
   "name": "python",
   "nbconvert_exporter": "python",
   "pygments_lexer": "ipython3",
   "version": "3.8.10"
  }
 },
 "nbformat": 4,
 "nbformat_minor": 2
}
