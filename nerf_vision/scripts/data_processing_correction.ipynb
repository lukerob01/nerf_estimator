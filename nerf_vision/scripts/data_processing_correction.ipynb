{
 "cells": [
  {
   "cell_type": "code",
   "execution_count": 1,
   "metadata": {},
   "outputs": [],
   "source": [
    "import os\n",
    "import cv2\n",
    "import numpy as np\n",
    "import json\n",
    "from scipy.spatial.transform import Rotation\n",
    "import matplotlib.pyplot as plt\n",
    "%matplotlib inline"
   ]
  },
  {
   "cell_type": "code",
   "execution_count": 2,
   "metadata": {},
   "outputs": [
    {
     "name": "stdout",
     "output_type": "stream",
     "text": [
      "/home/boomalope/nerf_estimator/src/nerf_estimator/nerf_vision/scripts/../data/3_pts\n"
     ]
    }
   ],
   "source": [
    "DATA_PATH = os.path.join(os.getcwd(), '../data/3_pts')\n",
    "print(DATA_PATH)\n",
    "PROCESSED_DATA_PATH = os.path.join(os.getcwd(), '../processed/3_pts')\n",
    "if not os.path.exists(PROCESSED_DATA_PATH):\n",
    "    os.makedirs(PROCESSED_DATA_PATH)\n",
    "if not os.path.exists(os.path.join(PROCESSED_DATA_PATH,'images')):\n",
    "    os.makedirs(os.path.join(PROCESSED_DATA_PATH,'images'))"
   ]
  },
  {
   "cell_type": "code",
   "execution_count": 3,
   "metadata": {},
   "outputs": [],
   "source": [
    "#Gazebo Param: \n",
    "#Definition: https://github.com/ros-simulation/gazebo_ros_pkgs/blob/398cde933cba5d72921055d57d4faa47c4445654/gazebo_plugins/src/gazebo_ros_camera_utils.cpp#L524\n",
    "\n",
    "horizontal_fov = 1.3962634"
   ]
  },
  {
   "cell_type": "code",
   "execution_count": 4,
   "metadata": {},
   "outputs": [],
   "source": [
    "#Camera parameters\n",
    "#Definitions: https://docs.nerf.studio/quickstart/data_conventions.html\n",
    "\n",
    "fl_x = 762.72 # focal length in x\n",
    "fl_y = 762.72# focal length in y\n",
    "w = 1280 # image width\n",
    "h = 720 # image height\n",
    "cx = w//2 # optical center in x\n",
    "cy = h//2 # optical center in y\n",
    "camera_model = \"OPENCV\" # camera model\n",
    "k1 = 0 # radial distortion coefficient k1\n",
    "k2 = 0 # radial distortion coefficient k2\n",
    "k3 = 0 # radial distortion coefficient k3\n",
    "p1 = 0 # tangential distortion coefficient p1\n",
    "p2 = 0 # tangential distortion coefficient p2"
   ]
  },
  {
   "cell_type": "code",
   "execution_count": 5,
   "metadata": {},
   "outputs": [],
   "source": [
    "def from_tf_to_matrix(tf):\n",
    "    #tf is the frame of the robot relative to the camera\n",
    "    xyz = tf[:3]\n",
    "    q = tf[3:7]\n",
    "    goal = tf[7:]\n",
    "\n",
    "    #Rotation matrix\n",
    "    r = Rotation.from_quat(q)\n",
    "    r = r.as_matrix()\n",
    "\n",
    "    #Additional rotation  matrix to shift camera from +x to -z direction and make the x axis point to the right\n",
    "    A = Rotation.from_euler('YZX', [-90, -90, 0], degrees=True).as_matrix()\n",
    "\n",
    "    #Translation matrix in the world frame\n",
    "    t = np.zeros((4,4))\n",
    "    t[:3,:3] = np.matmul(r.T,A)\n",
    "    t[:3,3] = -np.matmul(r.T,xyz)\n",
    "    t[3,3] = 1\n",
    "\n",
    "    #Force z to be the same\n",
    "    t[2,3] = 2\n",
    "\n",
    "    #Force pitch to be the same\n",
    "    rot = Rotation.from_matrix(t[:3,:3])\n",
    "    rot = rot.as_euler('ZYX', degrees=True)\n",
    "    rot[1] = 0\n",
    "    rot[2] = 60\n",
    "    rot = Rotation.from_euler('ZYX', rot, degrees=True)\n",
    "    t[:3,:3] = rot.as_matrix()\n",
    "    \n",
    "    return t"
   ]
  },
  {
   "cell_type": "code",
   "execution_count": 6,
   "metadata": {},
   "outputs": [],
   "source": [
    "data_cnt = 0\n",
    "frames = []\n",
    "while True:\n",
    "    #Get data paths\n",
    "    data_img = os.path.join(DATA_PATH, '{}.png'.format(data_cnt))\n",
    "    data_tf= os.path.join(DATA_PATH, '{}.txt'.format(data_cnt))\n",
    "\n",
    "    if not os.path.exists(data_img):\n",
    "        break\n",
    "    \n",
    "    #Get tf as np array\n",
    "    tf = np.loadtxt(data_tf, delimiter=',')\n",
    "\n",
    "\n",
    "    file_path = \"images/{}.png\".format(data_cnt)\n",
    "    transform_matrix = from_tf_to_matrix(tf)\n",
    "\n",
    "    #Append to frames\n",
    "    frames.append({\n",
    "        \"file_path\": file_path,\n",
    "        \"transform_matrix\": transform_matrix.tolist(),\n",
    "    })\n",
    "\n",
    "    #Save image in processed folder\n",
    "    img = cv2.imread(data_img)\n",
    "    #Change img from BGR to RGB\n",
    "    img = cv2.cvtColor(img, cv2.COLOR_BGR2RGB)\n",
    "    cv2.imwrite(os.path.join(PROCESSED_DATA_PATH, file_path), img)\n",
    "    \n",
    "    data_cnt += 1       "
   ]
  },
  {
   "cell_type": "code",
   "execution_count": 7,
   "metadata": {},
   "outputs": [],
   "source": [
    "transform_dictionary = {}\n",
    "transform_dictionary[\"horizontal_fov\"] = horizontal_fov\n",
    "transform_dictionary[\"fl_x\"] = fl_x\n",
    "transform_dictionary[\"fl_y\"] = fl_y\n",
    "transform_dictionary[\"w\"] = w\n",
    "transform_dictionary[\"h\"] = h\n",
    "transform_dictionary[\"cx\"] = cx\n",
    "transform_dictionary[\"cy\"] = cy\n",
    "transform_dictionary[\"k1\"] = k1\n",
    "transform_dictionary[\"k2\"] = k2\n",
    "transform_dictionary[\"k3\"] = k3\n",
    "transform_dictionary[\"p1\"] = p1\n",
    "transform_dictionary[\"p2\"] = p2\n",
    "transform_dictionary[\"camera_model\"] = camera_model\n",
    "transform_dictionary[\"frames\"] = frames\n",
    "\n",
    "#Save as json \n",
    "with open(os.path.join(PROCESSED_DATA_PATH, \"transforms.json\"), 'w') as outfile:\n",
    "    json.dump(transform_dictionary, outfile,indent=4)\n"
   ]
  }
 ],
 "metadata": {
  "kernelspec": {
   "display_name": "Python 3",
   "language": "python",
   "name": "python3"
  },
  "language_info": {
   "codemirror_mode": {
    "name": "ipython",
    "version": 3
   },
   "file_extension": ".py",
   "mimetype": "text/x-python",
   "name": "python",
   "nbconvert_exporter": "python",
   "pygments_lexer": "ipython3",
   "version": "3.8.10"
  }
 },
 "nbformat": 4,
 "nbformat_minor": 2
}
