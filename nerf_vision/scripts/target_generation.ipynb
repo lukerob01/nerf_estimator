{
 "cells": [
  {
   "cell_type": "code",
   "execution_count": 1,
   "metadata": {},
   "outputs": [],
   "source": [
    "import os\n",
    "import math\n",
    "import csv"
   ]
  },
  {
   "cell_type": "code",
   "execution_count": 2,
   "metadata": {},
   "outputs": [
    {
     "name": "stdout",
     "output_type": "stream",
     "text": [
      "/home/boomalope/nerf_estimator/src/nerf_estimator/nerf_vision/scripts/../targets/3_pts.csv\n"
     ]
    }
   ],
   "source": [
    "TARGET_PATH = os.path.join(os.getcwd(), '../targets/4_pts.csv')\n",
    "print(TARGET_PATH)"
   ]
  },
  {
   "cell_type": "code",
   "execution_count": 3,
   "metadata": {},
   "outputs": [],
   "source": [
    "target_pts = [[2,0],[2.5,0],[3,0],[3.5,0]]\n",
    "rotations = 25\n",
    "\n",
    "targets = []\n",
    "\n",
    "for t in target_pts:\n",
    "    for r in range(rotations):\n",
    "        targets.append([t[0], t[1], r*2*math.pi/rotations])\n",
    "\n",
    "#Save targets as csv at TARGET_PATH\n",
    "with open(TARGET_PATH, 'w', newline='') as csvfile:\n",
    "    writer = csv.writer(csvfile)\n",
    "    for t in targets:\n",
    "        writer.writerow(t)"
   ]
  }
 ],
 "metadata": {
  "kernelspec": {
   "display_name": "Python 3",
   "language": "python",
   "name": "python3"
  },
  "language_info": {
   "codemirror_mode": {
    "name": "ipython",
    "version": 3
   },
   "file_extension": ".py",
   "mimetype": "text/x-python",
   "name": "python",
   "nbconvert_exporter": "python",
   "pygments_lexer": "ipython3",
   "version": "3.8.10"
  }
 },
 "nbformat": 4,
 "nbformat_minor": 2
}
