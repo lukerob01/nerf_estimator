{
 "cells": [
  {
   "cell_type": "code",
   "execution_count": 16,
   "metadata": {},
   "outputs": [],
   "source": [
    "import os\n",
    "import json\n",
    "import math\n",
    "import numpy as np\n",
    "from scipy.spatial.transform import Rotation"
   ]
  },
  {
   "cell_type": "code",
   "execution_count": 17,
   "metadata": {},
   "outputs": [],
   "source": [
    "SAVE_PATH = os.path.join(os.getcwd(), '../data/three_spin')\n",
    "if not os.path.exists(SAVE_PATH):\n",
    "    os.makedirs(SAVE_PATH)\n",
    "if not os.path.exists(os.path.join(SAVE_PATH, 'images')):\n",
    "    os.makedirs(os.path.join(SAVE_PATH, 'images'))"
   ]
  },
  {
   "cell_type": "code",
   "execution_count": 18,
   "metadata": {},
   "outputs": [],
   "source": [
    "transforms = {}\n",
    "transforms[\"fl_x\"] = 762.72 # focal length in x\n",
    "transforms[\"fl_y\"] = 762.72# focal length in y\n",
    "transforms[\"w\"] = 1280 # image width\n",
    "transforms[\"h\"] = 720 # image height\n",
    "transforms[\"cx\"] = transforms[\"w\"]//2 # optical center in x\n",
    "transforms[\"cy\"] = transforms[\"h\"]//2 # optical center in y\n",
    "transforms[\"k1\"] = 0\n",
    "transforms[\"k2\"] = 0\n",
    "transforms[\"k3\"] = 0\n",
    "transforms[\"p1\"] = 0\n",
    "transforms[\"p2\"] = 0\n",
    "transforms[\"camera_model\"] = \"OPENCV\" # camera model"
   ]
  },
  {
   "cell_type": "code",
   "execution_count": 19,
   "metadata": {},
   "outputs": [],
   "source": [
    "frames = []\n",
    "\n",
    "starting_pts = [[15, 0],[20,0],[25,0]]\n",
    "z = 20\n",
    "pitch = 0.7\n",
    "spin = 20\n",
    "\n",
    "cnt = 0\n",
    "\n",
    "for x, y in starting_pts:\n",
    "    start_transform_matrix = np.eye(4)\n",
    "    start_transform_matrix[:3, :3] = Rotation.from_rotvec(np.array([pitch, 0, 0])).as_matrix()\n",
    "    start_transform_matrix[0, 3] = x\n",
    "    start_transform_matrix[1, 3] = y\n",
    "    start_transform_matrix[2, 3] = z\n",
    "\n",
    "    for i in range(spin):\n",
    "        angle = i * 2 * np.pi / spin\n",
    "        rot = Rotation.from_rotvec(np.array([0, 0, 1]) * angle).as_matrix()\n",
    "        rot_matrix = np.eye(4)\n",
    "        rot_matrix[:3, :3] = rot\n",
    "        transform_matrix = np.matmul(rot_matrix, start_transform_matrix)\n",
    "\n",
    "        frame = {}\n",
    "        file_path = \"images/{}.png\".format(cnt)\n",
    "\n",
    "        frame[\"file_path\"] = file_path\n",
    "        frame[\"transform_matrix\"] = transform_matrix.tolist()\n",
    "\n",
    "        frames.append(frame)\n",
    "\n",
    "        cnt += 1\n",
    "\n",
    "\n",
    "transforms[\"frames\"] = frames"
   ]
  },
  {
   "cell_type": "code",
   "execution_count": 20,
   "metadata": {},
   "outputs": [],
   "source": [
    "#Save transforms\n",
    "with open(os.path.join(SAVE_PATH,'transforms.json'), 'w') as outfile:\n",
    "    json.dump(transforms, outfile, indent=4)"
   ]
  }
 ],
 "metadata": {
  "kernelspec": {
   "display_name": "Python 3",
   "language": "python",
   "name": "python3"
  },
  "language_info": {
   "codemirror_mode": {
    "name": "ipython",
    "version": 3
   },
   "file_extension": ".py",
   "mimetype": "text/x-python",
   "name": "python",
   "nbconvert_exporter": "python",
   "pygments_lexer": "ipython3",
   "version": "3.8.10"
  }
 },
 "nbformat": 4,
 "nbformat_minor": 2
}
