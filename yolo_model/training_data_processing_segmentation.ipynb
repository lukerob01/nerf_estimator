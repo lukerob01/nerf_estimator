{
 "cells": [
  {
   "cell_type": "code",
   "execution_count": 1,
   "metadata": {},
   "outputs": [],
   "source": [
    "import os\n",
    "from roboflow import Roboflow\n",
    "import cv2\n",
    "import json\n",
    "import numpy as np\n",
    "import matplotlib\n",
    "import matplotlib.pyplot as plt\n",
    "%matplotlib inline"
   ]
  },
  {
   "cell_type": "code",
   "execution_count": 2,
   "metadata": {},
   "outputs": [],
   "source": [
    "#Read API key from file\n",
    "API_KEY = os.path.join(os.getcwd(), './robotflow_api.key')\n",
    "API_KEY = open(API_KEY, 'r').read().strip()\n",
    "\n",
    "MODEL_PATH = os.path.join(os.getcwd(), './runs/detect/train8/weights/best.pt')\n",
    "DIR_PATH = os.path.join(os.getcwd(), '../nerf_vision/processed/5_pts/')\n",
    "SAVED_PATH = os.path.join(DIR_PATH, './masks/')\n",
    "if not os.path.exists(SAVED_PATH):\n",
    "    os.makedirs(SAVED_PATH)"
   ]
  },
  {
   "cell_type": "code",
   "execution_count": 3,
   "metadata": {},
   "outputs": [
    {
     "name": "stdout",
     "output_type": "stream",
     "text": [
      "loading Roboflow workspace...\n",
      "loading Roboflow project...\n"
     ]
    }
   ],
   "source": [
    "rf = Roboflow(api_key=API_KEY)\n",
    "project = rf.workspace().project(\"jackal_segmentation\")\n",
    "model = project.version(2).model\n"
   ]
  },
  {
   "cell_type": "code",
   "execution_count": 4,
   "metadata": {},
   "outputs": [],
   "source": [
    "#Open transforms.json file\n",
    "\n",
    "with open(os.path.join(DIR_PATH, 'transforms.json')) as f:\n",
    "    data = json.load(f)\n",
    "\n",
    "for i in range(len(data['frames'])):\n",
    "    img_path = os.path.join(DIR_PATH,data['frames'][i]['file_path'])\n",
    "\n",
    "    #Open image\n",
    "    img = cv2.imread(img_path)\n",
    "    results = model.predict(img_path).json()\n",
    "    polygon = results[\"predictions\"][0]\n",
    "\n",
    "    #Create black and white mask\n",
    "    mask = np.zeros((img.shape[0],img.shape[1]),dtype=np.uint8)\n",
    "    #Set mask to 1 within polygon\n",
    "    polygon_points = np.array([(int(pt['x']),int(pt['y'])) for pt in polygon['points']])\n",
    "    cv2.fillPoly(mask, [polygon_points], 255)\n",
    "\n",
    "    #Save mask as png\n",
    "    SAVED_MASK_IMG_PATH = \"masks/\"+str(i)+\".png\"\n",
    "    cv2.imwrite(os.path.join(DIR_PATH,SAVED_MASK_IMG_PATH), mask)\n",
    "    \n",
    "    data['frames'][i]['mask_path'] = SAVED_MASK_IMG_PATH\n",
    "\n",
    "    if False:\n",
    "        #Two subplot\n",
    "        fig, (ax1, ax2) = plt.subplots(1, 2)\n",
    "        ax1.imshow(img)\n",
    "        ax2.imshow(mask)\n"
   ]
  },
  {
   "cell_type": "code",
   "execution_count": 5,
   "metadata": {},
   "outputs": [],
   "source": [
    "#Save data as transforms.json\n",
    "with open(os.path.join(DIR_PATH, \"transforms.json\"), 'w') as outfile:\n",
    "    json.dump(data, outfile,indent=2)\n"
   ]
  }
 ],
 "metadata": {
  "kernelspec": {
   "display_name": "Python 3",
   "language": "python",
   "name": "python3"
  },
  "language_info": {
   "codemirror_mode": {
    "name": "ipython",
    "version": 3
   },
   "file_extension": ".py",
   "mimetype": "text/x-python",
   "name": "python",
   "nbconvert_exporter": "python",
   "pygments_lexer": "ipython3",
   "version": "3.8.10"
  }
 },
 "nbformat": 4,
 "nbformat_minor": 2
}
